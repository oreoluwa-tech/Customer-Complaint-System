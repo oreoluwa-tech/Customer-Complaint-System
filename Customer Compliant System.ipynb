{
 "cells": [
  {
   "cell_type": "markdown",
   "id": "e4bdd9de",
   "metadata": {},
   "source": [
    "# CUSTOMER COMPLIANT SYSTEM"
   ]
  },
  {
   "cell_type": "markdown",
   "id": "9d9be478",
   "metadata": {},
   "source": [
    " Build a system that helps the team to detect and translate complains made by the company’s French customers to English. And the system should also be able to translate to any language the team specifies.\n",
    "\n",
    "User Case Story (Customer)\n",
    "The system should welcome me as a user\n",
    "The system should ask me to submit complain\n",
    "The system should tell me when my when my complain is submitted\n",
    "\n",
    "\n",
    "User Case Story (Team)\n",
    "The system should list all the complain\n",
    "The system should ask me to pick a complain\n",
    "The system should be able to detect the language used in a complain text\n",
    "The system should be able to translate from one language to the other base on specification"
   ]
  },
  {
   "cell_type": "markdown",
   "id": "557fd5e4",
   "metadata": {},
   "source": [
    "**Importing Libaries**"
   ]
  },
  {
   "cell_type": "code",
   "execution_count": 1,
   "id": "071e8951",
   "metadata": {},
   "outputs": [],
   "source": [
    "from datetime import datetime as dt\n",
    "from requests.utils import requote_uri\n",
    "import http.client\n",
    "import json"
   ]
  },
  {
   "cell_type": "markdown",
   "id": "b42a81ff",
   "metadata": {},
   "source": [
    "**User Case Story (Customer)**"
   ]
  },
  {
   "cell_type": "code",
   "execution_count": 2,
   "id": "56b8f3b9",
   "metadata": {},
   "outputs": [],
   "source": [
    "user_complain = {}"
   ]
  },
  {
   "cell_type": "code",
   "execution_count": 3,
   "id": "74aa8d68",
   "metadata": {},
   "outputs": [],
   "source": [
    "def complain():\n",
    "    complaint_id = 1\n",
    "    while True:\n",
    "        name = input(\"Enter your name: \")\n",
    "        print(\"Welcome to Honeycomb cakes Customer Complaint System, {}\".format(name))\n",
    "        product_id = input(\"Enter the ID of the product you are laying complaint for: \")\n",
    "        date = dt.now()\n",
    "        issue = input(\"Please enter your complaint: \")\n",
    "\n",
    "        if product_id in user_complain.keys() or name in user_complain.values() or date in user_complain.values() or issue in user_complain.values():\n",
    "            print('==========================')\n",
    "            yes_no = input(\"Your complaint has already been registered.\\n Do you want to register another complaint?!\\n Y for Yes and N for No: \")\n",
    "            if yes_no.lower() == \"y\":\n",
    "                continue\n",
    "            elif yes_no.lower() == \"n\":\n",
    "                print(\"Thank you for providing your complaint.\")\n",
    "                break\n",
    "            else:\n",
    "                print(\"You have entered an invalid response.\")\n",
    "                continue\n",
    "        elif name == \"\" or product_id == \"\" or date == \"\" or issue == \"\":\n",
    "            print(\"You have entered an invalid response. Please start all over again.\")\n",
    "            continue\n",
    "        else:\n",
    "          user_complain[complaint_id] = {\"product_id\": product_id, \"name\": name, \"date\": date, \"complaint\": issue}\n",
    "          print('Complaint logged successfully!')\n",
    "          complaint_id += 1\n",
    "          yes_no = input(\"Do you want to register another complaint?!\\n Y for Yes and N for No: \")\n",
    "\n",
    "          if yes_no.lower() == \"y\":\n",
    "                continue\n",
    "          elif yes_no.lower() == \"n\":\n",
    "                print(\"Thank you for providing your complaint.\")\n",
    "                break\n",
    "          else:\n",
    "                print(\"You have entered an invalid response.\")\n",
    "                continue"
   ]
  },
  {
   "cell_type": "code",
   "execution_count": 4,
   "id": "bcf46ba3",
   "metadata": {},
   "outputs": [
    {
     "name": "stdout",
     "output_type": "stream",
     "text": [
      "Enter your name: Oreoluwa Daramola\n",
      "Welcome to Honeycomb cakes Customer Complaint System, Oreoluwa Daramola\n",
      "Enter the ID of the product you are laying complaint for: 1201\n",
      "Please enter your complaint: The wrong flavour of cake arrived\n",
      "Complaint logged successfully!\n",
      "Do you want to register another complaint?!\n",
      " Y for Yes and N for No: Y\n",
      "Enter your name: Paul Gasper\n",
      "Welcome to Honeycomb cakes Customer Complaint System, Paul Gasper\n",
      "Enter the ID of the product you are laying complaint for: 1453\n",
      "Please enter your complaint: Le gâteau s'est écrasé à l'arrivée\n",
      "Complaint logged successfully!\n",
      "Do you want to register another complaint?!\n",
      " Y for Yes and N for No: N\n",
      "Thank you for providing your complaint.\n"
     ]
    }
   ],
   "source": [
    "complain()"
   ]
  },
  {
   "cell_type": "code",
   "execution_count": null,
   "id": "c84f3e60",
   "metadata": {},
   "outputs": [],
   "source": [
    "**USER CASE STUDY (TEAM)**"
   ]
  },
  {
   "cell_type": "code",
   "execution_count": 5,
   "id": "6b1d8baa",
   "metadata": {},
   "outputs": [],
   "source": [
    "def api_request(coded_complaint, output_language_code):\n",
    "  conn = http.client.HTTPSConnection(\"google-translate1.p.rapidapi.com\")\n",
    "\n",
    "  headers = {\n",
    "      'content-type': \"application/x-www-form-urlencoded\",\n",
    "      'accept-encoding': \"application/gzip\",\n",
    "      'x-rapidapi-key': \"390c37a65fmsh03237005c27868ep1a87c4jsnd56c83ef5e73\",\n",
    "      'x-rapidapi-host': \"google-translate1.p.rapidapi.com\"\n",
    "      }\n",
    "\n",
    "  payload = \"q=\" + coded_complaint + \"&target=\" + output_language_code\n",
    "  print(payload)\n",
    "\n",
    "  conn.request(\"POST\", \"/language/translate/v2\", payload, headers)\n",
    "\n",
    "  res = conn.getresponse()\n",
    "  data = res.read().decode(\"utf-8\")\n",
    "  return data\n",
    "\n",
    "\n",
    "def translateFunction(user_complain):\n",
    "  complaint_choice_id = int(input(\"Please enter the complaint ID of choice you want to translate: \"))\n",
    "\n",
    "  complaint_choice = user_complain[complaint_choice_id]['complaint']\n",
    "  print(complaint_choice)\n",
    "\n",
    "  coded_complaint = requote_uri(complaint_choice)\n",
    "  print(coded_complaint)\n",
    "\n",
    "  output_language_code = input(\"Please enter the expected output language: \")\n",
    " \n",
    "  print(output_language_code)\n",
    "\n",
    "  api_call = api_request(coded_complaint, output_language_code)\n",
    "  print(api_call)\n",
    "\n",
    "  result_dict = json.loads(api_call)\n",
    "  print(\"Translation dictionary: \", result_dict)\n",
    "\n",
    "  complaint_language = result_dict[\"data\"][\"translations\"][0][\"detectedSourceLanguage\"]\n",
    "  print(\"The complaint you selected was entered in \", complaint_language)\n",
    "\n",
    "  translated_result = result_dict[\"data\"][\"translations\"][0][\"translatedText\"]\n",
    "  print(\"This selected complaint, \", complaint_choice, \" translated from \", complaint_language, \" to \", output_language_code, \" is \", translated_result)"
   ]
  },
  {
   "cell_type": "code",
   "execution_count": null,
   "id": "222c948c",
   "metadata": {},
   "outputs": [
    {
     "name": "stdout",
     "output_type": "stream",
     "text": [
      "{1: {'product_id': '1201', 'name': 'Oreoluwa Daramola', 'date': datetime.datetime(2021, 7, 6, 1, 20, 45, 837206), 'complaint': 'The wrong flavour of cake arrived'}, 2: {'product_id': '1453', 'name': 'Paul Gasper', 'date': datetime.datetime(2021, 7, 6, 1, 24, 51, 551088), 'complaint': \"Le gâteau s'est écrasé à l'arrivée\"}}\n",
      "Please enter the complaint ID of choice you want to translate: 2\n",
      "Le gâteau s'est écrasé à l'arrivée\n",
      "Le%20g%C3%A2teau%20s'est%20%C3%A9cras%C3%A9%20%C3%A0%20l'arriv%C3%A9e\n",
      "Please enter the expected output language: en\n",
      "en\n",
      "q=Le%20g%C3%A2teau%20s'est%20%C3%A9cras%C3%A9%20%C3%A0%20l'arriv%C3%A9e&target=en\n",
      "{\"data\":{\"translations\":[{\"translatedText\":\"The cake crashed on arrival\",\"detectedSourceLanguage\":\"fr\"}]}}\n",
      "Translation dictionary:  {'data': {'translations': [{'translatedText': 'The cake crashed on arrival', 'detectedSourceLanguage': 'fr'}]}}\n",
      "The complaint you selected was entered in  fr\n",
      "This selected complaint,  Le gâteau s'est écrasé à l'arrivée  translated from  fr  to  en  is  The cake crashed on arrival\n",
      "Translate another complaint? 1\n",
      "This is not a supported entry. Supported entries are yes and no.\n",
      "Translate another complaint? yes\n",
      "Please enter the complaint ID of choice you want to translate: 1\n",
      "The wrong flavour of cake arrived\n",
      "The%20wrong%20flavour%20of%20cake%20arrived\n",
      "Please enter the expected output language: fr\n",
      "fr\n",
      "q=The%20wrong%20flavour%20of%20cake%20arrived&target=fr\n",
      "{\"data\":{\"translations\":[{\"translatedText\":\"La mauvaise saveur de gâteau est arrivée\",\"detectedSourceLanguage\":\"en\"}]}}\n",
      "Translation dictionary:  {'data': {'translations': [{'translatedText': 'La mauvaise saveur de gâteau est arrivée', 'detectedSourceLanguage': 'en'}]}}\n",
      "The complaint you selected was entered in  en\n",
      "This selected complaint,  The wrong flavour of cake arrived  translated from  en  to  fr  is  La mauvaise saveur de gâteau est arrivée\n"
     ]
    }
   ],
   "source": [
    "print(user_complain)\n",
    "\n",
    "\n",
    "translateFunction(user_complain)\n",
    "\n",
    "\n",
    "while True: \n",
    "  proceed_target = input(\"Translate another complaint? \")\n",
    "  if proceed_target.lower() == \"yes\":\n",
    "    translateFunction(user_complain)\n",
    "\n",
    "  elif proceed_target.lower() == \"no\":\n",
    "    break\n",
    "  else:\n",
    "    print(\"This is not a supported entry. Supported entries are yes and no.\")\n",
    "    continue"
   ]
  }
 ],
 "metadata": {
  "kernelspec": {
   "display_name": "Python 3 (ipykernel)",
   "language": "python",
   "name": "python3"
  },
  "language_info": {
   "codemirror_mode": {
    "name": "ipython",
    "version": 3
   },
   "file_extension": ".py",
   "mimetype": "text/x-python",
   "name": "python",
   "nbconvert_exporter": "python",
   "pygments_lexer": "ipython3",
   "version": "3.9.6"
  }
 },
 "nbformat": 4,
 "nbformat_minor": 5
}
